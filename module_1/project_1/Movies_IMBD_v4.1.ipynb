{
 "cells": [
  {
   "cell_type": "code",
   "execution_count": 194,
   "metadata": {
    "_cell_guid": "b1076dfc-b9ad-4769-8c92-a6c4dae69d19",
    "_uuid": "8f2839f25d086af736a60e9eeb907d3b93b6e0e5",
    "colab": {},
    "colab_type": "code",
    "id": "U2D2gTdJVp90"
   },
   "outputs": [],
   "source": [
    "import numpy as np\n",
    "import pandas as pd\n",
    "import seaborn as sns\n",
    "import matplotlib.pyplot as plt\n",
    "from collections import Counter"
   ]
  },
  {
   "cell_type": "code",
   "execution_count": 195,
   "metadata": {
    "_cell_guid": "79c7e3d0-c299-4dcb-8224-4455121ee9b0",
    "_uuid": "d629ff2d2480ee46fbb7e2d37f6b5fab8052498a",
    "colab": {},
    "colab_type": "code",
    "id": "oyGfxL3eVp9-"
   },
   "outputs": [
    {
     "data": {
      "text/html": [
       "<div>\n",
       "<style scoped>\n",
       "    .dataframe tbody tr th:only-of-type {\n",
       "        vertical-align: middle;\n",
       "    }\n",
       "\n",
       "    .dataframe tbody tr th {\n",
       "        vertical-align: top;\n",
       "    }\n",
       "\n",
       "    .dataframe thead th {\n",
       "        text-align: right;\n",
       "    }\n",
       "</style>\n",
       "<table border=\"1\" class=\"dataframe\">\n",
       "  <thead>\n",
       "    <tr style=\"text-align: right;\">\n",
       "      <th></th>\n",
       "      <th>imdb_id</th>\n",
       "      <th>budget</th>\n",
       "      <th>revenue</th>\n",
       "      <th>original_title</th>\n",
       "      <th>cast</th>\n",
       "      <th>director</th>\n",
       "      <th>tagline</th>\n",
       "      <th>overview</th>\n",
       "      <th>runtime</th>\n",
       "      <th>genres</th>\n",
       "      <th>production_companies</th>\n",
       "      <th>release_date</th>\n",
       "      <th>vote_average</th>\n",
       "      <th>release_year</th>\n",
       "    </tr>\n",
       "  </thead>\n",
       "  <tbody>\n",
       "    <tr>\n",
       "      <th>292</th>\n",
       "      <td>tt1148204</td>\n",
       "      <td>20000000</td>\n",
       "      <td>41596251</td>\n",
       "      <td>Orphan</td>\n",
       "      <td>Vera Farmiga|Peter Sarsgaard|Isabelle Fuhrman|...</td>\n",
       "      <td>Jaume Collet-Serra</td>\n",
       "      <td>Can you keep a secret?</td>\n",
       "      <td>A married couple with a rocky past adopt 9-yea...</td>\n",
       "      <td>123</td>\n",
       "      <td>Horror|Thriller|Mystery</td>\n",
       "      <td>Dark Castle Entertainment|Studio Babelsberg St...</td>\n",
       "      <td>7/24/2009</td>\n",
       "      <td>6.5</td>\n",
       "      <td>2009</td>\n",
       "    </tr>\n",
       "    <tr>\n",
       "      <th>1323</th>\n",
       "      <td>tt0360486</td>\n",
       "      <td>100000000</td>\n",
       "      <td>230427240</td>\n",
       "      <td>Constantine</td>\n",
       "      <td>Keanu Reeves|Rachel Weisz|Shia LaBeouf|Djimon ...</td>\n",
       "      <td>Francis Lawrence</td>\n",
       "      <td>Hell Wants Him, Heaven Won't Take Him, Earth N...</td>\n",
       "      <td>John Constantine has literally been to Hell an...</td>\n",
       "      <td>121</td>\n",
       "      <td>Drama|Fantasy|Horror</td>\n",
       "      <td>Village Roadshow Pictures|DC Comics|Lonely Fil...</td>\n",
       "      <td>2/15/2005</td>\n",
       "      <td>6.5</td>\n",
       "      <td>2005</td>\n",
       "    </tr>\n",
       "    <tr>\n",
       "      <th>1302</th>\n",
       "      <td>tt0884726</td>\n",
       "      <td>70000000</td>\n",
       "      <td>18662027</td>\n",
       "      <td>Legends of Oz: Dorothy's Return</td>\n",
       "      <td>Lea Michele|Dan Aykroyd|Patrick Stewart|Hugh D...</td>\n",
       "      <td>Dan St. Pierre</td>\n",
       "      <td>There's trouble in OZ...</td>\n",
       "      <td>Dorothy wakes up in post-tornado Kansas, only ...</td>\n",
       "      <td>88</td>\n",
       "      <td>Animation|Music|Family</td>\n",
       "      <td>Prana Animation Studios|Summertime Entertainment</td>\n",
       "      <td>6/13/2013</td>\n",
       "      <td>6.1</td>\n",
       "      <td>2013</td>\n",
       "    </tr>\n",
       "    <tr>\n",
       "      <th>388</th>\n",
       "      <td>tt0473075</td>\n",
       "      <td>150000000</td>\n",
       "      <td>335154643</td>\n",
       "      <td>Prince of Persia: The Sands of Time</td>\n",
       "      <td>Jake Gyllenhaal|Gemma Arterton|Ben Kingsley|Al...</td>\n",
       "      <td>Mike Newell</td>\n",
       "      <td>Defy the Future</td>\n",
       "      <td>A rogue prince (Jake Gyllenhaal) reluctantly j...</td>\n",
       "      <td>116</td>\n",
       "      <td>Adventure|Fantasy|Action|Romance</td>\n",
       "      <td>Walt Disney Pictures|Jerry Bruckheimer Films</td>\n",
       "      <td>5/19/2010</td>\n",
       "      <td>6.1</td>\n",
       "      <td>2010</td>\n",
       "    </tr>\n",
       "    <tr>\n",
       "      <th>581</th>\n",
       "      <td>tt0211465</td>\n",
       "      <td>15000000</td>\n",
       "      <td>12000000</td>\n",
       "      <td>Knockaround Guys</td>\n",
       "      <td>Barry Pepper|Andy Davoli|Seth Green|Vin Diesel...</td>\n",
       "      <td>Brian Koppelman|David Levien</td>\n",
       "      <td>If they don't finish the job, their fathers wi...</td>\n",
       "      <td>Four sons of well-known New York mobsters must...</td>\n",
       "      <td>92</td>\n",
       "      <td>Crime|Thriller</td>\n",
       "      <td>Lawrence Bender Productions</td>\n",
       "      <td>9/7/2001</td>\n",
       "      <td>5.7</td>\n",
       "      <td>2001</td>\n",
       "    </tr>\n",
       "  </tbody>\n",
       "</table>\n",
       "</div>"
      ],
      "text/plain": [
       "        imdb_id     budget    revenue                       original_title  \\\n",
       "292   tt1148204   20000000   41596251                               Orphan   \n",
       "1323  tt0360486  100000000  230427240                          Constantine   \n",
       "1302  tt0884726   70000000   18662027      Legends of Oz: Dorothy's Return   \n",
       "388   tt0473075  150000000  335154643  Prince of Persia: The Sands of Time   \n",
       "581   tt0211465   15000000   12000000                     Knockaround Guys   \n",
       "\n",
       "                                                   cast  \\\n",
       "292   Vera Farmiga|Peter Sarsgaard|Isabelle Fuhrman|...   \n",
       "1323  Keanu Reeves|Rachel Weisz|Shia LaBeouf|Djimon ...   \n",
       "1302  Lea Michele|Dan Aykroyd|Patrick Stewart|Hugh D...   \n",
       "388   Jake Gyllenhaal|Gemma Arterton|Ben Kingsley|Al...   \n",
       "581   Barry Pepper|Andy Davoli|Seth Green|Vin Diesel...   \n",
       "\n",
       "                          director  \\\n",
       "292             Jaume Collet-Serra   \n",
       "1323              Francis Lawrence   \n",
       "1302                Dan St. Pierre   \n",
       "388                    Mike Newell   \n",
       "581   Brian Koppelman|David Levien   \n",
       "\n",
       "                                                tagline  \\\n",
       "292                              Can you keep a secret?   \n",
       "1323  Hell Wants Him, Heaven Won't Take Him, Earth N...   \n",
       "1302                           There's trouble in OZ...   \n",
       "388                                     Defy the Future   \n",
       "581   If they don't finish the job, their fathers wi...   \n",
       "\n",
       "                                               overview  runtime  \\\n",
       "292   A married couple with a rocky past adopt 9-yea...      123   \n",
       "1323  John Constantine has literally been to Hell an...      121   \n",
       "1302  Dorothy wakes up in post-tornado Kansas, only ...       88   \n",
       "388   A rogue prince (Jake Gyllenhaal) reluctantly j...      116   \n",
       "581   Four sons of well-known New York mobsters must...       92   \n",
       "\n",
       "                                genres  \\\n",
       "292            Horror|Thriller|Mystery   \n",
       "1323              Drama|Fantasy|Horror   \n",
       "1302            Animation|Music|Family   \n",
       "388   Adventure|Fantasy|Action|Romance   \n",
       "581                     Crime|Thriller   \n",
       "\n",
       "                                   production_companies release_date  \\\n",
       "292   Dark Castle Entertainment|Studio Babelsberg St...    7/24/2009   \n",
       "1323  Village Roadshow Pictures|DC Comics|Lonely Fil...    2/15/2005   \n",
       "1302   Prana Animation Studios|Summertime Entertainment    6/13/2013   \n",
       "388        Walt Disney Pictures|Jerry Bruckheimer Films    5/19/2010   \n",
       "581                         Lawrence Bender Productions     9/7/2001   \n",
       "\n",
       "      vote_average  release_year  \n",
       "292            6.5          2009  \n",
       "1323           6.5          2005  \n",
       "1302           6.1          2013  \n",
       "388            6.1          2010  \n",
       "581            5.7          2001  "
      ]
     },
     "execution_count": 195,
     "metadata": {},
     "output_type": "execute_result"
    }
   ],
   "source": [
    "data = pd.read_csv('movie_bd_v5.csv')\n",
    "data.sample(5)"
   ]
  },
  {
   "cell_type": "code",
   "execution_count": 196,
   "metadata": {
    "colab": {},
    "colab_type": "code",
    "id": "CoYUnagMVp-C"
   },
   "outputs": [
    {
     "data": {
      "text/html": [
       "<div>\n",
       "<style scoped>\n",
       "    .dataframe tbody tr th:only-of-type {\n",
       "        vertical-align: middle;\n",
       "    }\n",
       "\n",
       "    .dataframe tbody tr th {\n",
       "        vertical-align: top;\n",
       "    }\n",
       "\n",
       "    .dataframe thead th {\n",
       "        text-align: right;\n",
       "    }\n",
       "</style>\n",
       "<table border=\"1\" class=\"dataframe\">\n",
       "  <thead>\n",
       "    <tr style=\"text-align: right;\">\n",
       "      <th></th>\n",
       "      <th>budget</th>\n",
       "      <th>revenue</th>\n",
       "      <th>runtime</th>\n",
       "      <th>vote_average</th>\n",
       "      <th>release_year</th>\n",
       "    </tr>\n",
       "  </thead>\n",
       "  <tbody>\n",
       "    <tr>\n",
       "      <th>count</th>\n",
       "      <td>1.889000e+03</td>\n",
       "      <td>1.889000e+03</td>\n",
       "      <td>1889.000000</td>\n",
       "      <td>1889.000000</td>\n",
       "      <td>1889.000000</td>\n",
       "    </tr>\n",
       "    <tr>\n",
       "      <th>mean</th>\n",
       "      <td>5.431083e+07</td>\n",
       "      <td>1.553653e+08</td>\n",
       "      <td>109.658549</td>\n",
       "      <td>6.140762</td>\n",
       "      <td>2007.860773</td>\n",
       "    </tr>\n",
       "    <tr>\n",
       "      <th>std</th>\n",
       "      <td>4.858721e+07</td>\n",
       "      <td>2.146698e+08</td>\n",
       "      <td>18.017041</td>\n",
       "      <td>0.764763</td>\n",
       "      <td>4.468841</td>\n",
       "    </tr>\n",
       "    <tr>\n",
       "      <th>min</th>\n",
       "      <td>5.000000e+06</td>\n",
       "      <td>2.033165e+06</td>\n",
       "      <td>63.000000</td>\n",
       "      <td>3.300000</td>\n",
       "      <td>2000.000000</td>\n",
       "    </tr>\n",
       "    <tr>\n",
       "      <th>25%</th>\n",
       "      <td>2.000000e+07</td>\n",
       "      <td>3.456058e+07</td>\n",
       "      <td>97.000000</td>\n",
       "      <td>5.600000</td>\n",
       "      <td>2004.000000</td>\n",
       "    </tr>\n",
       "    <tr>\n",
       "      <th>50%</th>\n",
       "      <td>3.800000e+07</td>\n",
       "      <td>8.361541e+07</td>\n",
       "      <td>107.000000</td>\n",
       "      <td>6.100000</td>\n",
       "      <td>2008.000000</td>\n",
       "    </tr>\n",
       "    <tr>\n",
       "      <th>75%</th>\n",
       "      <td>7.200000e+07</td>\n",
       "      <td>1.782626e+08</td>\n",
       "      <td>120.000000</td>\n",
       "      <td>6.600000</td>\n",
       "      <td>2012.000000</td>\n",
       "    </tr>\n",
       "    <tr>\n",
       "      <th>max</th>\n",
       "      <td>3.800000e+08</td>\n",
       "      <td>2.781506e+09</td>\n",
       "      <td>214.000000</td>\n",
       "      <td>8.100000</td>\n",
       "      <td>2015.000000</td>\n",
       "    </tr>\n",
       "  </tbody>\n",
       "</table>\n",
       "</div>"
      ],
      "text/plain": [
       "             budget       revenue      runtime  vote_average  release_year\n",
       "count  1.889000e+03  1.889000e+03  1889.000000   1889.000000   1889.000000\n",
       "mean   5.431083e+07  1.553653e+08   109.658549      6.140762   2007.860773\n",
       "std    4.858721e+07  2.146698e+08    18.017041      0.764763      4.468841\n",
       "min    5.000000e+06  2.033165e+06    63.000000      3.300000   2000.000000\n",
       "25%    2.000000e+07  3.456058e+07    97.000000      5.600000   2004.000000\n",
       "50%    3.800000e+07  8.361541e+07   107.000000      6.100000   2008.000000\n",
       "75%    7.200000e+07  1.782626e+08   120.000000      6.600000   2012.000000\n",
       "max    3.800000e+08  2.781506e+09   214.000000      8.100000   2015.000000"
      ]
     },
     "execution_count": 196,
     "metadata": {},
     "output_type": "execute_result"
    }
   ],
   "source": [
    "data.describe()"
   ]
  },
  {
   "cell_type": "markdown",
   "metadata": {
    "colab_type": "text",
    "id": "DTIt7ezGVp-G"
   },
   "source": [
    "# Предобработка"
   ]
  },
  {
   "cell_type": "code",
   "execution_count": 197,
   "metadata": {
    "colab": {},
    "colab_type": "code",
    "id": "jNb40DwKVp-H"
   },
   "outputs": [],
   "source": [
    "answers = {} # создадим словарь для ответов\n",
    "data['profit'] = data['revenue'] - data['budget']\n",
    "\n",
    "# тут другие ваши предобработки колонок например:\n",
    "\n",
    "#the time given in the dataset is in string format.\n",
    "#So we need to change this in datetime format\n",
    "# ..."
   ]
  },
  {
   "cell_type": "markdown",
   "metadata": {
    "colab_type": "text",
    "id": "YxZaH-nPVp-L"
   },
   "source": [
    "# 1. У какого фильма из списка самый большой бюджет?"
   ]
  },
  {
   "cell_type": "markdown",
   "metadata": {
    "colab_type": "text",
    "id": "Nd-G5gX6Vp-M"
   },
   "source": [
    "Использовать варианты ответов в коде решения запрещено.    \n",
    "Вы думаете и в жизни у вас будут варианты ответов?)"
   ]
  },
  {
   "cell_type": "code",
   "execution_count": 198,
   "metadata": {
    "colab": {},
    "colab_type": "code",
    "id": "uVnXAY5RVp-O"
   },
   "outputs": [],
   "source": [
    "# в словарь вставляем номер вопроса и ваш ответ на него\n",
    "# Пример: \n",
    "answers['1'] = '2. Spider-Man 3 (tt0413300)'\n",
    "# запишите свой вариант ответа\n",
    "answers['1'] = '...'\n",
    "# если ответили верно, можете добавить комментарий со значком \"+\""
   ]
  },
  {
   "cell_type": "code",
   "execution_count": 199,
   "metadata": {
    "colab": {},
    "colab_type": "code",
    "id": "dZwb3m28Vp-S"
   },
   "outputs": [
    {
     "data": {
      "text/plain": [
       "{'1': 723    Pirates of the Caribbean: On Stranger Tides\n",
       " Name: original_title, dtype: object}"
      ]
     },
     "execution_count": 199,
     "metadata": {},
     "output_type": "execute_result"
    }
   ],
   "source": [
    "# тут пишем ваш код для решения данного вопроса:\n",
    "data[data.budget == data.budget.max()]\n",
    "answers['1'] = data[data.budget == data.budget.max()]['original_title']\n",
    "answers"
   ]
  },
  {
   "cell_type": "markdown",
   "metadata": {
    "colab_type": "text",
    "id": "K7L3nbRXVp-X"
   },
   "source": [
    "ВАРИАНТ 2"
   ]
  },
  {
   "cell_type": "code",
   "execution_count": 200,
   "metadata": {
    "colab": {},
    "colab_type": "code",
    "id": "OGaoQI7rVp-X"
   },
   "outputs": [],
   "source": [
    "# можно добавлять разные варианты решения"
   ]
  },
  {
   "cell_type": "markdown",
   "metadata": {
    "colab_type": "text",
    "id": "FNRbbI3vVp-c"
   },
   "source": [
    "# 2. Какой из фильмов самый длительный (в минутах)?"
   ]
  },
  {
   "cell_type": "code",
   "execution_count": 201,
   "metadata": {
    "colab": {},
    "colab_type": "code",
    "id": "vHAoEXNTVp-d"
   },
   "outputs": [],
   "source": [
    "# думаю логику работы с этим словарем вы уже поняли, \n",
    "# по этому не буду больше его дублировать\n",
    "answers['2'] = '...'"
   ]
  },
  {
   "cell_type": "code",
   "execution_count": 202,
   "metadata": {
    "colab": {},
    "colab_type": "code",
    "id": "ot-VX2XrVp-g"
   },
   "outputs": [
    {
     "data": {
      "text/plain": [
       "{'1': 723    Pirates of the Caribbean: On Stranger Tides\n",
       " Name: original_title, dtype: object, '2': 1157    Gods and Generals\n",
       " Name: original_title, dtype: object}"
      ]
     },
     "execution_count": 202,
     "metadata": {},
     "output_type": "execute_result"
    }
   ],
   "source": [
    "answers['2'] = data[data.runtime == data.runtime.max()]['original_title']\n",
    "answers"
   ]
  },
  {
   "cell_type": "markdown",
   "metadata": {
    "colab_type": "text",
    "id": "bapLlpW8Vp-k"
   },
   "source": [
    "# 3. Какой из фильмов самый короткий (в минутах)?\n",
    "\n",
    "\n",
    "\n"
   ]
  },
  {
   "cell_type": "code",
   "execution_count": 203,
   "metadata": {
    "colab": {},
    "colab_type": "code",
    "id": "YBxaSHuAVp-l"
   },
   "outputs": [
    {
     "data": {
      "text/plain": [
       "{'1': 723    Pirates of the Caribbean: On Stranger Tides\n",
       " Name: original_title, dtype: object, '2': 1157    Gods and Generals\n",
       " Name: original_title, dtype: object, '3': 768    Winnie the Pooh\n",
       " Name: original_title, dtype: object}"
      ]
     },
     "execution_count": 203,
     "metadata": {},
     "output_type": "execute_result"
    }
   ],
   "source": [
    "answers['3'] = data[data.runtime == data.runtime.min()]['original_title']\n",
    "answers"
   ]
  },
  {
   "cell_type": "markdown",
   "metadata": {
    "colab_type": "text",
    "id": "TfQbxbfNVp-p"
   },
   "source": [
    "# 4. Какова средняя длительность фильмов?\n"
   ]
  },
  {
   "cell_type": "code",
   "execution_count": 204,
   "metadata": {
    "colab": {},
    "colab_type": "code",
    "id": "5K6dKZYVVp-q"
   },
   "outputs": [
    {
     "data": {
      "text/plain": [
       "{'1': 723    Pirates of the Caribbean: On Stranger Tides\n",
       " Name: original_title, dtype: object, '2': 1157    Gods and Generals\n",
       " Name: original_title, dtype: object, '3': 768    Winnie the Pooh\n",
       " Name: original_title, dtype: object, '4': 109.6585494970884}"
      ]
     },
     "execution_count": 204,
     "metadata": {},
     "output_type": "execute_result"
    }
   ],
   "source": [
    "answers['4'] = data.runtime.mean()\n",
    "answers"
   ]
  },
  {
   "cell_type": "markdown",
   "metadata": {
    "colab_type": "text",
    "id": "r5TvbnT_Vp-u"
   },
   "source": [
    "# 5. Каково медианное значение длительности фильмов? "
   ]
  },
  {
   "cell_type": "code",
   "execution_count": 205,
   "metadata": {
    "colab": {},
    "colab_type": "code",
    "id": "iBROplKnVp-v"
   },
   "outputs": [
    {
     "data": {
      "text/plain": [
       "{'1': 723    Pirates of the Caribbean: On Stranger Tides\n",
       " Name: original_title, dtype: object, '2': 1157    Gods and Generals\n",
       " Name: original_title, dtype: object, '3': 768    Winnie the Pooh\n",
       " Name: original_title, dtype: object, '4': 109.6585494970884, '5': 107.0}"
      ]
     },
     "execution_count": 205,
     "metadata": {},
     "output_type": "execute_result"
    }
   ],
   "source": [
    "answers['5'] = data.runtime.median()\n",
    "answers"
   ]
  },
  {
   "cell_type": "markdown",
   "metadata": {
    "colab_type": "text",
    "id": "39P-deDSVp-y"
   },
   "source": [
    "# 6. Какой самый прибыльный фильм?\n",
    "#### Внимание! Здесь и далее под «прибылью» или «убытками» понимается разность между сборами и бюджетом фильма. (прибыль = сборы - бюджет) в нашем датасете это будет (profit = revenue - budget) "
   ]
  },
  {
   "cell_type": "code",
   "execution_count": 206,
   "metadata": {
    "colab": {},
    "colab_type": "code",
    "id": "UYZh4T9WVp-y"
   },
   "outputs": [
    {
     "data": {
      "text/plain": [
       "{'1': 723    Pirates of the Caribbean: On Stranger Tides\n",
       " Name: original_title, dtype: object, '2': 1157    Gods and Generals\n",
       " Name: original_title, dtype: object, '3': 768    Winnie the Pooh\n",
       " Name: original_title, dtype: object, '4': 109.6585494970884, '5': 107.0, '6': 239    Avatar\n",
       " Name: original_title, dtype: object}"
      ]
     },
     "execution_count": 206,
     "metadata": {},
     "output_type": "execute_result"
    }
   ],
   "source": [
    "# лучше кодdata получения столбца profit вынести в Предобработку что в начале\n",
    "answers['6'] = data[data.profit == data.profit.max()]['original_title']\n",
    "answers"
   ]
  },
  {
   "cell_type": "markdown",
   "metadata": {
    "colab_type": "text",
    "id": "M99JmIX4Vp-2"
   },
   "source": [
    "# 7. Какой фильм самый убыточный? "
   ]
  },
  {
   "cell_type": "code",
   "execution_count": 207,
   "metadata": {
    "colab": {},
    "colab_type": "code",
    "id": "w-D2m4XPVp-3"
   },
   "outputs": [
    {
     "data": {
      "text/plain": [
       "{'1': 723    Pirates of the Caribbean: On Stranger Tides\n",
       " Name: original_title, dtype: object, '2': 1157    Gods and Generals\n",
       " Name: original_title, dtype: object, '3': 768    Winnie the Pooh\n",
       " Name: original_title, dtype: object, '4': 109.6585494970884, '5': 107.0, '6': 239    Avatar\n",
       " Name: original_title, dtype: object, '7': 1245    The Lone Ranger\n",
       " Name: original_title, dtype: object}"
      ]
     },
     "execution_count": 207,
     "metadata": {},
     "output_type": "execute_result"
    }
   ],
   "source": [
    "answers['7'] = data[data.profit == data.profit.min()]['original_title']\n",
    "answers"
   ]
  },
  {
   "cell_type": "markdown",
   "metadata": {
    "colab_type": "text",
    "id": "wEOM5ERVVp-6"
   },
   "source": [
    "# 8. У скольких фильмов из датасета объем сборов оказался выше бюджета?"
   ]
  },
  {
   "cell_type": "code",
   "execution_count": 208,
   "metadata": {
    "colab": {},
    "colab_type": "code",
    "id": "y00_7HD6Vp-7"
   },
   "outputs": [
    {
     "data": {
      "text/plain": [
       "{'1': 723    Pirates of the Caribbean: On Stranger Tides\n",
       " Name: original_title, dtype: object, '2': 1157    Gods and Generals\n",
       " Name: original_title, dtype: object, '3': 768    Winnie the Pooh\n",
       " Name: original_title, dtype: object, '4': 109.6585494970884, '5': 107.0, '6': 239    Avatar\n",
       " Name: original_title, dtype: object, '7': 1245    The Lone Ranger\n",
       " Name: original_title, dtype: object, '8': 1478}"
      ]
     },
     "execution_count": 208,
     "metadata": {},
     "output_type": "execute_result"
    }
   ],
   "source": [
    "answers['8'] = len(data[data.profit > 0].index)\n",
    "answers"
   ]
  },
  {
   "cell_type": "markdown",
   "metadata": {
    "colab_type": "text",
    "id": "xhpspA9KVp_A"
   },
   "source": [
    "# 9. Какой фильм оказался самым кассовым в 2008 году?"
   ]
  },
  {
   "cell_type": "code",
   "execution_count": 209,
   "metadata": {
    "colab": {},
    "colab_type": "code",
    "id": "MoUyQr9RVp_B"
   },
   "outputs": [
    {
     "data": {
      "text/plain": [
       "{'1': 723    Pirates of the Caribbean: On Stranger Tides\n",
       " Name: original_title, dtype: object, '2': 1157    Gods and Generals\n",
       " Name: original_title, dtype: object, '3': 768    Winnie the Pooh\n",
       " Name: original_title, dtype: object, '4': 109.6585494970884, '5': 107.0, '6': 239    Avatar\n",
       " Name: original_title, dtype: object, '7': 1245    The Lone Ranger\n",
       " Name: original_title, dtype: object, '8': 1478, '9': 599    The Dark Knight\n",
       " Name: original_title, dtype: object}"
      ]
     },
     "execution_count": 209,
     "metadata": {},
     "output_type": "execute_result"
    }
   ],
   "source": [
    "answers['9'] = data[(data.revenue == data[data.release_year == 2008].revenue.max() ) &\n",
    "                    (data.release_year == 2008)]['original_title']\n",
    "answers"
   ]
  },
  {
   "cell_type": "markdown",
   "metadata": {
    "colab_type": "text",
    "id": "Zi4hDKidVp_F"
   },
   "source": [
    "# 10. Самый убыточный фильм за период с 2012 по 2014 г. (включительно)?\n"
   ]
  },
  {
   "cell_type": "code",
   "execution_count": 210,
   "metadata": {
    "colab": {},
    "colab_type": "code",
    "id": "XqyRmufJVp_F"
   },
   "outputs": [
    {
     "data": {
      "text/plain": [
       "{'1': 723    Pirates of the Caribbean: On Stranger Tides\n",
       " Name: original_title, dtype: object, '2': 1157    Gods and Generals\n",
       " Name: original_title, dtype: object, '3': 768    Winnie the Pooh\n",
       " Name: original_title, dtype: object, '4': 109.6585494970884, '5': 107.0, '6': 239    Avatar\n",
       " Name: original_title, dtype: object, '7': 1245    The Lone Ranger\n",
       " Name: original_title, dtype: object, '8': 1478, '9': 599    The Dark Knight\n",
       " Name: original_title, dtype: object, '10': 1245    The Lone Ranger\n",
       " Name: original_title, dtype: object}"
      ]
     },
     "execution_count": 210,
     "metadata": {},
     "output_type": "execute_result"
    }
   ],
   "source": [
    "answers['10'] = data[(data.profit == data[(data.release_year >= 2012)& (data.release_year <= 2014)].profit.min() )\n",
    "                     & (data.release_year >= 2012) \n",
    "                     & (data.release_year <= 2014)]['original_title']\n",
    "answers"
   ]
  },
  {
   "cell_type": "markdown",
   "metadata": {
    "colab_type": "text",
    "id": "EA7Sa9dkVp_I"
   },
   "source": [
    "# 11. Какого жанра фильмов больше всего?"
   ]
  },
  {
   "cell_type": "code",
   "execution_count": 211,
   "metadata": {
    "colab": {},
    "colab_type": "code",
    "id": "zsJAwJ8QVp_J"
   },
   "outputs": [],
   "source": [
    "# эту задачу тоже можно решать разными подходами, попробуй реализовать разные варианты\n",
    "# если будешь добавлять функцию - выноси ее в предобработку что в начале"
   ]
  },
  {
   "cell_type": "markdown",
   "metadata": {
    "colab_type": "text",
    "id": "Ax6g2C8SVp_M"
   },
   "source": [
    "ВАРИАНТ 2"
   ]
  },
  {
   "cell_type": "code",
   "execution_count": 212,
   "metadata": {
    "colab": {},
    "colab_type": "code",
    "id": "otO3SbrSVp_N"
   },
   "outputs": [
    {
     "data": {
      "text/plain": [
       "{'1': 723    Pirates of the Caribbean: On Stranger Tides\n",
       " Name: original_title, dtype: object, '2': 1157    Gods and Generals\n",
       " Name: original_title, dtype: object, '3': 768    Winnie the Pooh\n",
       " Name: original_title, dtype: object, '4': 109.6585494970884, '5': 107.0, '6': 239    Avatar\n",
       " Name: original_title, dtype: object, '7': 1245    The Lone Ranger\n",
       " Name: original_title, dtype: object, '8': 1478, '9': 599    The Dark Knight\n",
       " Name: original_title, dtype: object, '10': 1245    The Lone Ranger\n",
       " Name: original_title, dtype: object, '11': 'Drama'}"
      ]
     },
     "execution_count": 212,
     "metadata": {},
     "output_type": "execute_result"
    }
   ],
   "source": [
    "genres = {}\n",
    "\n",
    "for index,row in data.iterrows():\n",
    "    for genre in row['genres'].split('|'):\n",
    "        genres.setdefault(genre,0)\n",
    "        genres[genre] += 1\n",
    "        \n",
    "answers['11'] = [(k,v) for k,v in sorted(genres.items(),key=lambda x: x[1],reverse=True)][0][0]\n",
    "answers"
   ]
  },
  {
   "cell_type": "markdown",
   "metadata": {
    "colab_type": "text",
    "id": "T9_bPWpkVp_Q"
   },
   "source": [
    "# 12. Фильмы какого жанра чаще всего становятся прибыльными? "
   ]
  },
  {
   "cell_type": "code",
   "execution_count": 213,
   "metadata": {
    "colab": {},
    "colab_type": "code",
    "id": "Tmt8MaK1Vp_R"
   },
   "outputs": [
    {
     "data": {
      "text/plain": [
       "{'1': 723    Pirates of the Caribbean: On Stranger Tides\n",
       " Name: original_title, dtype: object, '2': 1157    Gods and Generals\n",
       " Name: original_title, dtype: object, '3': 768    Winnie the Pooh\n",
       " Name: original_title, dtype: object, '4': 109.6585494970884, '5': 107.0, '6': 239    Avatar\n",
       " Name: original_title, dtype: object, '7': 1245    The Lone Ranger\n",
       " Name: original_title, dtype: object, '8': 1478, '9': 599    The Dark Knight\n",
       " Name: original_title, dtype: object, '10': 1245    The Lone Ranger\n",
       " Name: original_title, dtype: object, '11': 'Drama', '12': 'Drama'}"
      ]
     },
     "execution_count": 213,
     "metadata": {},
     "output_type": "execute_result"
    }
   ],
   "source": [
    "genres = {}\n",
    "\n",
    "for index,row in data[data.profit > 0].iterrows():\n",
    "    for genre in row['genres'].split('|'):\n",
    "        genres.setdefault(genre,0)\n",
    "        genres[genre] += 1\n",
    "\n",
    "answers['12'] = [(k,v) for k,v in sorted(genres.items(),key=lambda x: x[1],reverse=True)][0][0]\n",
    "answers"
   ]
  },
  {
   "cell_type": "markdown",
   "metadata": {
    "colab_type": "text",
    "id": "0F23bgsDVp_U"
   },
   "source": [
    "# 13. У какого режиссера самые большие суммарные кассовые сбооры?"
   ]
  },
  {
   "cell_type": "code",
   "execution_count": 214,
   "metadata": {
    "colab": {},
    "colab_type": "code",
    "id": "K6Z3J8ygVp_X"
   },
   "outputs": [
    {
     "data": {
      "text/plain": [
       "{'1': 723    Pirates of the Caribbean: On Stranger Tides\n",
       " Name: original_title, dtype: object, '2': 1157    Gods and Generals\n",
       " Name: original_title, dtype: object, '3': 768    Winnie the Pooh\n",
       " Name: original_title, dtype: object, '4': 109.6585494970884, '5': 107.0, '6': 239    Avatar\n",
       " Name: original_title, dtype: object, '7': 1245    The Lone Ranger\n",
       " Name: original_title, dtype: object, '8': 1478, '9': 599    The Dark Knight\n",
       " Name: original_title, dtype: object, '10': 1245    The Lone Ranger\n",
       " Name: original_title, dtype: object, '11': 'Drama', '12': 'Drama', '13': 'Peter Jackson'}"
      ]
     },
     "execution_count": 214,
     "metadata": {},
     "output_type": "execute_result"
    }
   ],
   "source": [
    "directors = {}\n",
    "\n",
    "for index,row in data.iterrows():\n",
    "    for director in row['director'].split('|'):\n",
    "        directors.setdefault(director,0)\n",
    "        directors[director] += row['revenue']\n",
    "answers['13'] = [(k,v) for k,v in sorted(directors.items(),key=lambda x: x[1],reverse=True)][0][0]\n",
    "answers"
   ]
  },
  {
   "cell_type": "markdown",
   "metadata": {
    "colab_type": "text",
    "id": "PsYC9FgRVp_a"
   },
   "source": [
    "# 14. Какой режисер снял больше всего фильмов в стиле Action?"
   ]
  },
  {
   "cell_type": "code",
   "execution_count": 215,
   "metadata": {
    "colab": {},
    "colab_type": "code",
    "id": "wd2M-wHeVp_b"
   },
   "outputs": [
    {
     "data": {
      "text/plain": [
       "'Michael Bay'"
      ]
     },
     "execution_count": 215,
     "metadata": {},
     "output_type": "execute_result"
    }
   ],
   "source": [
    "answers['14'] = data[data.genres.str.contains('Action')].director.mode().values[0]\n",
    "answers['14']"
   ]
  },
  {
   "cell_type": "code",
   "execution_count": 216,
   "metadata": {},
   "outputs": [
    {
     "data": {
      "text/plain": [
       "{'1': 723    Pirates of the Caribbean: On Stranger Tides\n",
       " Name: original_title, dtype: object, '2': 1157    Gods and Generals\n",
       " Name: original_title, dtype: object, '3': 768    Winnie the Pooh\n",
       " Name: original_title, dtype: object, '4': 109.6585494970884, '5': 107.0, '6': 239    Avatar\n",
       " Name: original_title, dtype: object, '7': 1245    The Lone Ranger\n",
       " Name: original_title, dtype: object, '8': 1478, '9': 599    The Dark Knight\n",
       " Name: original_title, dtype: object, '10': 1245    The Lone Ranger\n",
       " Name: original_title, dtype: object, '11': 'Drama', '12': 'Drama', '13': 'Peter Jackson', '14': 'Robert Rodriguez'}"
      ]
     },
     "execution_count": 216,
     "metadata": {},
     "output_type": "execute_result"
    }
   ],
   "source": [
    "import collections\n",
    "directors = []\n",
    "for director in data[data.genres.str.contains('Action')].director.values:\n",
    "    for subdirector in director.split('|'):\n",
    "        directors.append(subdirector)\n",
    "directors = collections.Counter(directors)\n",
    "\n",
    "answers['14'] = list(directors.keys())[list(directors.values()).index(9)]\n",
    "answers"
   ]
  },
  {
   "cell_type": "markdown",
   "metadata": {
    "colab_type": "text",
    "id": "PQ0KciD7Vp_f"
   },
   "source": [
    "# 15. Фильмы с каким актером принесли самые высокие кассовые сборы в 2012 году? "
   ]
  },
  {
   "cell_type": "code",
   "execution_count": 234,
   "metadata": {
    "colab": {},
    "colab_type": "code",
    "id": "aga62oeKVp_g"
   },
   "outputs": [
    {
     "data": {
      "text/plain": [
       "{'1': 723    Pirates of the Caribbean: On Stranger Tides\n",
       " Name: original_title, dtype: object, '2': 1157    Gods and Generals\n",
       " Name: original_title, dtype: object, '3': 768    Winnie the Pooh\n",
       " Name: original_title, dtype: object, '4': 109.6585494970884, '5': 107.0, '6': 239    Avatar\n",
       " Name: original_title, dtype: object, '7': 1245    The Lone Ranger\n",
       " Name: original_title, dtype: object, '8': 1478, '9': 599    The Dark Knight\n",
       " Name: original_title, dtype: object, '10': 1245    The Lone Ranger\n",
       " Name: original_title, dtype: object, '11': 'Drama', '12': 'Drama', '13': 'Peter Jackson', '14': 'Robert Rodriguez', '15': 'Bruce Willis', '16': 'Matt Damon', '17': 'Action', '18': 'K-19: The Widowmaker', '19': 2015, '20': 2014, '21': '9', '22': 450, '23': 'Peter Jackson', '24': 'Four By Two Productions', '25': 'Midnight Picture Show', '26':                                      original_title  vote_average\n",
       " 599                                 The Dark Knight           8.1\n",
       " 118                                    Interstellar           8.0\n",
       " 125                              The Imitation Game           8.0\n",
       " 9                                        Inside Out           8.0\n",
       " 34                                             Room           8.0\n",
       " 1183                        The Wolf of Wall Street           7.9\n",
       " 128                                       Gone Girl           7.9\n",
       " 1191                               12 Years a Slave           7.9\n",
       " 119                         Guardians of the Galaxy           7.9\n",
       " 1081  The Lord of the Rings: The Return of the King           7.9\n",
       " 1800                                        Memento           7.9\n",
       " 370                                       Inception           7.9\n",
       " 872                                     The Pianist           7.9\n",
       " 138                        The Grand Budapest Hotel           7.9\n",
       " 1188                                            Her           7.8\n",
       " 28                                        Spotlight           7.8\n",
       " 124                                      Big Hero 6           7.8\n",
       " 177                          The Fault in Our Stars           7.8\n",
       " 863           The Lord of the Rings: The Two Towers           7.8, '27': ('Daniel Radcliffe',\n",
       "  'Rupert Grint')}"
      ]
     },
     "execution_count": 234,
     "metadata": {},
     "output_type": "execute_result"
    }
   ],
   "source": [
    "data2012 = data[data.release_year == 2012]\n",
    "actors = []\n",
    "for cast in data2012.cast:\n",
    "    for actor in cast.split('|'):\n",
    "        actors.append(actor)\n",
    "\n",
    "actors = collections.Counter(actors)\n",
    "\n",
    "answers['15'] = list(actors.keys())[list(actors.values()).index(5)]\n",
    "answers"
   ]
  },
  {
   "cell_type": "code",
   "execution_count": 218,
   "metadata": {},
   "outputs": [
    {
     "data": {
      "text/plain": [
       "{'1': 723    Pirates of the Caribbean: On Stranger Tides\n",
       " Name: original_title, dtype: object, '2': 1157    Gods and Generals\n",
       " Name: original_title, dtype: object, '3': 768    Winnie the Pooh\n",
       " Name: original_title, dtype: object, '4': 109.6585494970884, '5': 107.0, '6': 239    Avatar\n",
       " Name: original_title, dtype: object, '7': 1245    The Lone Ranger\n",
       " Name: original_title, dtype: object, '8': 1478, '9': 599    The Dark Knight\n",
       " Name: original_title, dtype: object, '10': 1245    The Lone Ranger\n",
       " Name: original_title, dtype: object, '11': 'Drama', '12': 'Drama', '13': 'Peter Jackson', '14': 'Robert Rodriguez', '15': 'Chris Hemsworth'}"
      ]
     },
     "execution_count": 218,
     "metadata": {},
     "output_type": "execute_result"
    }
   ],
   "source": [
    "data2012 = data[data.release_year == 2012]\n",
    "actors = {}\n",
    "for index,row in data2012.iterrows():\n",
    "    for actor in row['cast'].split('|'):\n",
    "        actors.setdefault(actor,0)\n",
    "        actors[actor] += row['revenue']   \n",
    "        \n",
    "#определим, какой самый большой кассовый сбор у актеров      \n",
    "max_actor_revenue = max(actors.values())\n",
    "\n",
    "for actor,revenue in actors.items():\n",
    "    if revenue == max_actor_revenue:\n",
    "        best_actor = actor\n",
    "        break;\n",
    "answers['15'] = best_actor\n",
    "answers"
   ]
  },
  {
   "cell_type": "markdown",
   "metadata": {
    "colab_type": "text",
    "id": "mWHyyL7QVp_j"
   },
   "source": [
    "# 16. Какой актер снялся в большем количестве высокобюджетных фильмов?"
   ]
  },
  {
   "cell_type": "code",
   "execution_count": 219,
   "metadata": {
    "colab": {},
    "colab_type": "code",
    "id": "qQtmHKTFVp_k"
   },
   "outputs": [
    {
     "data": {
      "text/plain": [
       "{'1': 723    Pirates of the Caribbean: On Stranger Tides\n",
       " Name: original_title, dtype: object, '2': 1157    Gods and Generals\n",
       " Name: original_title, dtype: object, '3': 768    Winnie the Pooh\n",
       " Name: original_title, dtype: object, '4': 109.6585494970884, '5': 107.0, '6': 239    Avatar\n",
       " Name: original_title, dtype: object, '7': 1245    The Lone Ranger\n",
       " Name: original_title, dtype: object, '8': 1478, '9': 599    The Dark Knight\n",
       " Name: original_title, dtype: object, '10': 1245    The Lone Ranger\n",
       " Name: original_title, dtype: object, '11': 'Drama', '12': 'Drama', '13': 'Peter Jackson', '14': 'Robert Rodriguez', '15': 'Chris Hemsworth', '16': 'Matt Damon'}"
      ]
     },
     "execution_count": 219,
     "metadata": {},
     "output_type": "execute_result"
    }
   ],
   "source": [
    "#выделим высокобюджетные фильмы\n",
    "high_budget_films = data[data.budget > data.budget.mean()]\n",
    "\n",
    "actors = {}\n",
    "for index,row in high_budget_films.iterrows():\n",
    "    for actor in row['cast'].split('|'):\n",
    "        actors.setdefault(actor,0)\n",
    "        actors[actor] += 1\n",
    "actors\n",
    "max_film_cnt = max(actors.values())\n",
    "\n",
    "for actor,cnt in actors.items():\n",
    "    if cnt == max_film_cnt:\n",
    "        best_actor = actor\n",
    "        break;\n",
    "answers['16'] = best_actor\n",
    "answers"
   ]
  },
  {
   "cell_type": "markdown",
   "metadata": {
    "colab_type": "text",
    "id": "NIh6AaW5Vp_n"
   },
   "source": [
    "# 17. В фильмах какого жанра больше всего снимался Nicolas Cage? "
   ]
  },
  {
   "cell_type": "code",
   "execution_count": 220,
   "metadata": {
    "colab": {},
    "colab_type": "code",
    "id": "H74SJDIBVp_n"
   },
   "outputs": [
    {
     "data": {
      "text/plain": [
       "{'1': 723    Pirates of the Caribbean: On Stranger Tides\n",
       " Name: original_title, dtype: object, '2': 1157    Gods and Generals\n",
       " Name: original_title, dtype: object, '3': 768    Winnie the Pooh\n",
       " Name: original_title, dtype: object, '4': 109.6585494970884, '5': 107.0, '6': 239    Avatar\n",
       " Name: original_title, dtype: object, '7': 1245    The Lone Ranger\n",
       " Name: original_title, dtype: object, '8': 1478, '9': 599    The Dark Knight\n",
       " Name: original_title, dtype: object, '10': 1245    The Lone Ranger\n",
       " Name: original_title, dtype: object, '11': 'Drama', '12': 'Drama', '13': 'Peter Jackson', '14': 'Robert Rodriguez', '15': 'Chris Hemsworth', '16': 'Matt Damon', '17': 'Action'}"
      ]
     },
     "execution_count": 220,
     "metadata": {},
     "output_type": "execute_result"
    }
   ],
   "source": [
    "ncage_data = data[data['cast'].str.contains('Nicolas Cage')]\n",
    "\n",
    "genres = {}\n",
    "for index,row in ncage_data.iterrows():\n",
    "    for genre in row['genres'].split('|'):\n",
    "        genres.setdefault(genre,0)\n",
    "        genres[genre] += 1\n",
    "        \n",
    "answers['17'] = [(k,v) for k,v in sorted(genres.items(),key=lambda x: x[1],reverse=True)][0][0]\n",
    "answers"
   ]
  },
  {
   "cell_type": "markdown",
   "metadata": {
    "colab_type": "text",
    "id": "RqOmPRfWVp_q"
   },
   "source": [
    "# 18. Самый убыточный фильм от Paramount Pictures"
   ]
  },
  {
   "cell_type": "code",
   "execution_count": 221,
   "metadata": {
    "colab": {},
    "colab_type": "code",
    "id": "9E_B0Y96Vp_r"
   },
   "outputs": [
    {
     "data": {
      "text/plain": [
       "{'1': 723    Pirates of the Caribbean: On Stranger Tides\n",
       " Name: original_title, dtype: object, '2': 1157    Gods and Generals\n",
       " Name: original_title, dtype: object, '3': 768    Winnie the Pooh\n",
       " Name: original_title, dtype: object, '4': 109.6585494970884, '5': 107.0, '6': 239    Avatar\n",
       " Name: original_title, dtype: object, '7': 1245    The Lone Ranger\n",
       " Name: original_title, dtype: object, '8': 1478, '9': 599    The Dark Knight\n",
       " Name: original_title, dtype: object, '10': 1245    The Lone Ranger\n",
       " Name: original_title, dtype: object, '11': 'Drama', '12': 'Drama', '13': 'Peter Jackson', '14': 'Robert Rodriguez', '15': 'Chris Hemsworth', '16': 'Matt Damon', '17': 'Action', '18': 'K-19: The Widowmaker'}"
      ]
     },
     "execution_count": 221,
     "metadata": {},
     "output_type": "execute_result"
    }
   ],
   "source": [
    "paramount_pictures = data[data.production_companies.str.contains('Paramount Pictures')]\n",
    "films = {}\n",
    "\n",
    "for index,row in paramount_pictures.iterrows():\n",
    "    films.setdefault(row['original_title'],0)\n",
    "    films[row['original_title']] += row['profit']\n",
    "\n",
    "answers['18'] = [(k,v) for k,v in sorted(films.items(),key=lambda x: x[1],reverse=False)][0][0]\n",
    "answers"
   ]
  },
  {
   "cell_type": "markdown",
   "metadata": {
    "colab_type": "text",
    "id": "vS8Ur6ddVp_u"
   },
   "source": [
    "# 19. Какой год стал самым успешным по суммарным кассовым сборам?"
   ]
  },
  {
   "cell_type": "code",
   "execution_count": 222,
   "metadata": {},
   "outputs": [
    {
     "data": {
      "text/plain": [
       "0    2015\n",
       "1    2015\n",
       "2    2015\n",
       "Name: release_year, dtype: int64"
      ]
     },
     "execution_count": 222,
     "metadata": {},
     "output_type": "execute_result"
    }
   ],
   "source": [
    "data['release_year'].head(3)"
   ]
  },
  {
   "cell_type": "code",
   "execution_count": 223,
   "metadata": {
    "colab": {},
    "colab_type": "code",
    "id": "Dnbt4GdIVp_v"
   },
   "outputs": [
    {
     "data": {
      "text/plain": [
       "{'1': 723    Pirates of the Caribbean: On Stranger Tides\n",
       " Name: original_title, dtype: object, '2': 1157    Gods and Generals\n",
       " Name: original_title, dtype: object, '3': 768    Winnie the Pooh\n",
       " Name: original_title, dtype: object, '4': 109.6585494970884, '5': 107.0, '6': 239    Avatar\n",
       " Name: original_title, dtype: object, '7': 1245    The Lone Ranger\n",
       " Name: original_title, dtype: object, '8': 1478, '9': 599    The Dark Knight\n",
       " Name: original_title, dtype: object, '10': 1245    The Lone Ranger\n",
       " Name: original_title, dtype: object, '11': 'Drama', '12': 'Drama', '13': 'Peter Jackson', '14': 'Robert Rodriguez', '15': 'Chris Hemsworth', '16': 'Matt Damon', '17': 'Action', '18': 'K-19: The Widowmaker', '19': 2015}"
      ]
     },
     "execution_count": 223,
     "metadata": {},
     "output_type": "execute_result"
    }
   ],
   "source": [
    "years = {}\n",
    "\n",
    "for index,row in data.iterrows():\n",
    "    years.setdefault(row['release_year'],0)\n",
    "    years[row['release_year']] += row['revenue']\n",
    "\n",
    "answers['19'] = [(k,v) for k,v in sorted(years.items(),key=lambda x: x[1],reverse=True)][0][0]\n",
    "answers"
   ]
  },
  {
   "cell_type": "markdown",
   "metadata": {
    "colab_type": "text",
    "id": "JAzJh4QAVp_z"
   },
   "source": [
    "# 20. Какой самый прибыльный год для студии Warner Bros?"
   ]
  },
  {
   "cell_type": "code",
   "execution_count": 224,
   "metadata": {
    "colab": {},
    "colab_type": "code",
    "id": "wgVu02DEVp_0"
   },
   "outputs": [
    {
     "data": {
      "text/plain": [
       "{'1': 723    Pirates of the Caribbean: On Stranger Tides\n",
       " Name: original_title, dtype: object, '2': 1157    Gods and Generals\n",
       " Name: original_title, dtype: object, '3': 768    Winnie the Pooh\n",
       " Name: original_title, dtype: object, '4': 109.6585494970884, '5': 107.0, '6': 239    Avatar\n",
       " Name: original_title, dtype: object, '7': 1245    The Lone Ranger\n",
       " Name: original_title, dtype: object, '8': 1478, '9': 599    The Dark Knight\n",
       " Name: original_title, dtype: object, '10': 1245    The Lone Ranger\n",
       " Name: original_title, dtype: object, '11': 'Drama', '12': 'Drama', '13': 'Peter Jackson', '14': 'Robert Rodriguez', '15': 'Chris Hemsworth', '16': 'Matt Damon', '17': 'Action', '18': 'K-19: The Widowmaker', '19': 2015, '20': 2014}"
      ]
     },
     "execution_count": 224,
     "metadata": {},
     "output_type": "execute_result"
    }
   ],
   "source": [
    "warner_bros = data[data.production_companies.str.contains('Warner Bros')]\n",
    "years = {}\n",
    "\n",
    "for index,row in warner_bros.iterrows():\n",
    "    years.setdefault(row['release_year'],0)\n",
    "    years[row['release_year']] += row['profit']\n",
    "\n",
    "answers['20'] = [(k,v) for k,v in sorted(years.items(),key=lambda x: x[1],reverse=True)][0][0]\n",
    "answers"
   ]
  },
  {
   "cell_type": "markdown",
   "metadata": {
    "colab_type": "text",
    "id": "8Im1S2HRVp_4"
   },
   "source": [
    "# 21. В каком месяце за все годы суммарно вышло больше всего фильмов?"
   ]
  },
  {
   "cell_type": "code",
   "execution_count": 225,
   "metadata": {},
   "outputs": [
    {
     "data": {
      "text/plain": [
       "{'1': 723    Pirates of the Caribbean: On Stranger Tides\n",
       " Name: original_title, dtype: object, '2': 1157    Gods and Generals\n",
       " Name: original_title, dtype: object, '3': 768    Winnie the Pooh\n",
       " Name: original_title, dtype: object, '4': 109.6585494970884, '5': 107.0, '6': 239    Avatar\n",
       " Name: original_title, dtype: object, '7': 1245    The Lone Ranger\n",
       " Name: original_title, dtype: object, '8': 1478, '9': 599    The Dark Knight\n",
       " Name: original_title, dtype: object, '10': 1245    The Lone Ranger\n",
       " Name: original_title, dtype: object, '11': 'Drama', '12': 'Drama', '13': 'Peter Jackson', '14': 'Robert Rodriguez', '15': 'Chris Hemsworth', '16': 'Matt Damon', '17': 'Action', '18': 'K-19: The Widowmaker', '19': 2015, '20': 2014, '21': '9'}"
      ]
     },
     "execution_count": 225,
     "metadata": {},
     "output_type": "execute_result"
    }
   ],
   "source": [
    "months = {}\n",
    "\n",
    "for index,row in data.iterrows():\n",
    "    months.setdefault(row['release_date'].split('/')[0],0)\n",
    "    months[row['release_date'].split('/')[0]] += 1\n",
    "\n",
    "answers['21'] = [(k,v) for k,v in sorted(months.items(),key=lambda x: x[1],reverse=True)][0][0]\n",
    "answers"
   ]
  },
  {
   "cell_type": "markdown",
   "metadata": {
    "colab_type": "text",
    "id": "uAJsZ_NeVp_7"
   },
   "source": [
    "# 22. Сколько суммарно вышло фильмов летом? (за июнь, июль, август)"
   ]
  },
  {
   "cell_type": "code",
   "execution_count": 226,
   "metadata": {
    "colab": {},
    "colab_type": "code",
    "id": "Aa-hEREoVp_8"
   },
   "outputs": [
    {
     "data": {
      "text/plain": [
       "{'1': 723    Pirates of the Caribbean: On Stranger Tides\n",
       " Name: original_title, dtype: object, '2': 1157    Gods and Generals\n",
       " Name: original_title, dtype: object, '3': 768    Winnie the Pooh\n",
       " Name: original_title, dtype: object, '4': 109.6585494970884, '5': 107.0, '6': 239    Avatar\n",
       " Name: original_title, dtype: object, '7': 1245    The Lone Ranger\n",
       " Name: original_title, dtype: object, '8': 1478, '9': 599    The Dark Knight\n",
       " Name: original_title, dtype: object, '10': 1245    The Lone Ranger\n",
       " Name: original_title, dtype: object, '11': 'Drama', '12': 'Drama', '13': 'Peter Jackson', '14': 'Robert Rodriguez', '15': 'Chris Hemsworth', '16': 'Matt Damon', '17': 'Action', '18': 'K-19: The Widowmaker', '19': 2015, '20': 2014, '21': '9', '22': 450}"
      ]
     },
     "execution_count": 226,
     "metadata": {},
     "output_type": "execute_result"
    }
   ],
   "source": [
    "answers['22'] = months['6'] + months['7'] + months['8']\n",
    "answers"
   ]
  },
  {
   "cell_type": "markdown",
   "metadata": {
    "colab_type": "text",
    "id": "G94ppOY1VqAA"
   },
   "source": [
    "# 23. Для какого режиссера зима – самое продуктивное время года? "
   ]
  },
  {
   "cell_type": "code",
   "execution_count": 227,
   "metadata": {
    "colab": {},
    "colab_type": "code",
    "id": "RhNTsamuVqAB"
   },
   "outputs": [
    {
     "data": {
      "text/plain": [
       "{'1': 723    Pirates of the Caribbean: On Stranger Tides\n",
       " Name: original_title, dtype: object, '2': 1157    Gods and Generals\n",
       " Name: original_title, dtype: object, '3': 768    Winnie the Pooh\n",
       " Name: original_title, dtype: object, '4': 109.6585494970884, '5': 107.0, '6': 239    Avatar\n",
       " Name: original_title, dtype: object, '7': 1245    The Lone Ranger\n",
       " Name: original_title, dtype: object, '8': 1478, '9': 599    The Dark Knight\n",
       " Name: original_title, dtype: object, '10': 1245    The Lone Ranger\n",
       " Name: original_title, dtype: object, '11': 'Drama', '12': 'Drama', '13': 'Peter Jackson', '14': 'Robert Rodriguez', '15': 'Chris Hemsworth', '16': 'Matt Damon', '17': 'Action', '18': 'K-19: The Widowmaker', '19': 2015, '20': 2014, '21': '9', '22': 450, '23': 'Peter Jackson'}"
      ]
     },
     "execution_count": 227,
     "metadata": {},
     "output_type": "execute_result"
    }
   ],
   "source": [
    "data['release_date'] = pd.to_datetime(data['release_date'])\n",
    "winter_directors = {}\n",
    "\n",
    "for index,row in data.iterrows():\n",
    "    if row['release_date'].month in [1,2,12]:\n",
    "        for director in row['director'].split('|'):\n",
    "            winter_directors.setdefault(director,0)\n",
    "            winter_directors[director] += 1\n",
    "\n",
    "answers['23'] = [(k,v) for k,v in sorted(winter_directors.items(),key=lambda x: x[1],reverse=True)][0][0]\n",
    "answers"
   ]
  },
  {
   "cell_type": "markdown",
   "metadata": {
    "colab_type": "text",
    "id": "RBo0JVjVVqAF"
   },
   "source": [
    "# 24. Какая студия дает самые длинные названия своим фильмам по количеству символов?"
   ]
  },
  {
   "cell_type": "code",
   "execution_count": 228,
   "metadata": {
    "colab": {},
    "colab_type": "code",
    "id": "QRGS8L0iVqAG"
   },
   "outputs": [
    {
     "data": {
      "text/plain": [
       "{'1': 723    Pirates of the Caribbean: On Stranger Tides\n",
       " Name: original_title, dtype: object, '2': 1157    Gods and Generals\n",
       " Name: original_title, dtype: object, '3': 768    Winnie the Pooh\n",
       " Name: original_title, dtype: object, '4': 109.6585494970884, '5': 107.0, '6': 239    Avatar\n",
       " Name: original_title, dtype: object, '7': 1245    The Lone Ranger\n",
       " Name: original_title, dtype: object, '8': 1478, '9': 599    The Dark Knight\n",
       " Name: original_title, dtype: object, '10': 1245    The Lone Ranger\n",
       " Name: original_title, dtype: object, '11': 'Drama', '12': 'Drama', '13': 'Peter Jackson', '14': 'Robert Rodriguez', '15': 'Chris Hemsworth', '16': 'Matt Damon', '17': 'Action', '18': 'K-19: The Widowmaker', '19': 2015, '20': 2014, '21': '9', '22': 450, '23': 'Peter Jackson', '24': 'Four By Two Productions'}"
      ]
     },
     "execution_count": 228,
     "metadata": {},
     "output_type": "execute_result"
    }
   ],
   "source": [
    "import statistics\n",
    "\n",
    "production_companies = {}\n",
    "\n",
    "for index,row in data.iterrows():\n",
    "    for production_company in row['production_companies'].split('|'):\n",
    "            production_companies.setdefault(production_company,[])\n",
    "            production_companies[production_company].append(len(row['original_title']))\n",
    "\n",
    "for k,v in production_companies.items():\n",
    "    production_companies[k] = statistics.mean(v)\n",
    "    \n",
    "answers['24'] = [(k,v) for k,v in sorted(production_companies.items(),key=lambda x: x[1],reverse=True)][0][0]\n",
    "answers"
   ]
  },
  {
   "cell_type": "markdown",
   "metadata": {
    "colab_type": "text",
    "id": "9G0hbvR7VqAK"
   },
   "source": [
    "# 25. Описание фильмов какой студии в среднем самые длинные по количеству слов?"
   ]
  },
  {
   "cell_type": "code",
   "execution_count": 229,
   "metadata": {
    "colab": {},
    "colab_type": "code",
    "id": "Ge2GsLNxVqAK"
   },
   "outputs": [
    {
     "data": {
      "text/plain": [
       "{'1': 723    Pirates of the Caribbean: On Stranger Tides\n",
       " Name: original_title, dtype: object, '2': 1157    Gods and Generals\n",
       " Name: original_title, dtype: object, '3': 768    Winnie the Pooh\n",
       " Name: original_title, dtype: object, '4': 109.6585494970884, '5': 107.0, '6': 239    Avatar\n",
       " Name: original_title, dtype: object, '7': 1245    The Lone Ranger\n",
       " Name: original_title, dtype: object, '8': 1478, '9': 599    The Dark Knight\n",
       " Name: original_title, dtype: object, '10': 1245    The Lone Ranger\n",
       " Name: original_title, dtype: object, '11': 'Drama', '12': 'Drama', '13': 'Peter Jackson', '14': 'Robert Rodriguez', '15': 'Chris Hemsworth', '16': 'Matt Damon', '17': 'Action', '18': 'K-19: The Widowmaker', '19': 2015, '20': 2014, '21': '9', '22': 450, '23': 'Peter Jackson', '24': 'Four By Two Productions', '25': 'Midnight Picture Show'}"
      ]
     },
     "execution_count": 229,
     "metadata": {},
     "output_type": "execute_result"
    }
   ],
   "source": [
    "production_companies = {}\n",
    "\n",
    "for index,row in data.iterrows():\n",
    "    for production_company in row['production_companies'].split('|'):\n",
    "            production_companies.setdefault(production_company,[])\n",
    "            production_companies[production_company].append(len(row['overview'].split(' ')))\n",
    "\n",
    "for k,v in production_companies.items():\n",
    "    production_companies[k] = statistics.mean(v)\n",
    "    \n",
    "answers['25'] = [(k,v) for k,v in sorted(production_companies.items(),key=lambda x: x[1],reverse=True)][0][0]\n",
    "answers"
   ]
  },
  {
   "cell_type": "markdown",
   "metadata": {
    "colab_type": "text",
    "id": "FJ1AFt90VqAP"
   },
   "source": [
    "# 26. Какие фильмы входят в 1 процент лучших по рейтингу? \n",
    "по vote_average"
   ]
  },
  {
   "cell_type": "code",
   "execution_count": 230,
   "metadata": {
    "colab": {},
    "colab_type": "code",
    "id": "8qmJVq4CVqAQ"
   },
   "outputs": [
    {
     "data": {
      "text/plain": [
       "{'1': 723    Pirates of the Caribbean: On Stranger Tides\n",
       " Name: original_title, dtype: object, '2': 1157    Gods and Generals\n",
       " Name: original_title, dtype: object, '3': 768    Winnie the Pooh\n",
       " Name: original_title, dtype: object, '4': 109.6585494970884, '5': 107.0, '6': 239    Avatar\n",
       " Name: original_title, dtype: object, '7': 1245    The Lone Ranger\n",
       " Name: original_title, dtype: object, '8': 1478, '9': 599    The Dark Knight\n",
       " Name: original_title, dtype: object, '10': 1245    The Lone Ranger\n",
       " Name: original_title, dtype: object, '11': 'Drama', '12': 'Drama', '13': 'Peter Jackson', '14': 'Robert Rodriguez', '15': 'Chris Hemsworth', '16': 'Matt Damon', '17': 'Action', '18': 'K-19: The Widowmaker', '19': 2015, '20': 2014, '21': '9', '22': 450, '23': 'Peter Jackson', '24': 'Four By Two Productions', '25': 'Midnight Picture Show', '26':                                      original_title  vote_average\n",
       " 599                                 The Dark Knight           8.1\n",
       " 118                                    Interstellar           8.0\n",
       " 125                              The Imitation Game           8.0\n",
       " 9                                        Inside Out           8.0\n",
       " 34                                             Room           8.0\n",
       " 1183                        The Wolf of Wall Street           7.9\n",
       " 128                                       Gone Girl           7.9\n",
       " 1191                               12 Years a Slave           7.9\n",
       " 119                         Guardians of the Galaxy           7.9\n",
       " 1081  The Lord of the Rings: The Return of the King           7.9\n",
       " 1800                                        Memento           7.9\n",
       " 370                                       Inception           7.9\n",
       " 872                                     The Pianist           7.9\n",
       " 138                        The Grand Budapest Hotel           7.9\n",
       " 1188                                            Her           7.8\n",
       " 28                                        Spotlight           7.8\n",
       " 124                                      Big Hero 6           7.8\n",
       " 177                          The Fault in Our Stars           7.8\n",
       " 863           The Lord of the Rings: The Two Towers           7.8}"
      ]
     },
     "execution_count": 230,
     "metadata": {},
     "output_type": "execute_result"
    }
   ],
   "source": [
    "votes = data[['original_title','vote_average']].sort_values(by='vote_average',ascending=False)\n",
    "votes[:round(len(votes)*0.01)]\n",
    "\n",
    "answers['26'] = votes[:round(len(votes)*0.01)]\n",
    "answers"
   ]
  },
  {
   "cell_type": "markdown",
   "metadata": {
    "colab_type": "text",
    "id": "MdXsUXbCVqAV"
   },
   "source": [
    "# 27. Какие актеры чаще всего снимаются в одном фильме вместе?\n"
   ]
  },
  {
   "cell_type": "markdown",
   "metadata": {
    "colab_type": "text",
    "id": "4ymnxEVoVqAW"
   },
   "source": [
    "ВАРИАНТ 2"
   ]
  },
  {
   "cell_type": "code",
   "execution_count": 231,
   "metadata": {},
   "outputs": [
    {
     "data": {
      "text/plain": [
       "{'1': 723    Pirates of the Caribbean: On Stranger Tides\n",
       " Name: original_title, dtype: object, '2': 1157    Gods and Generals\n",
       " Name: original_title, dtype: object, '3': 768    Winnie the Pooh\n",
       " Name: original_title, dtype: object, '4': 109.6585494970884, '5': 107.0, '6': 239    Avatar\n",
       " Name: original_title, dtype: object, '7': 1245    The Lone Ranger\n",
       " Name: original_title, dtype: object, '8': 1478, '9': 599    The Dark Knight\n",
       " Name: original_title, dtype: object, '10': 1245    The Lone Ranger\n",
       " Name: original_title, dtype: object, '11': 'Drama', '12': 'Drama', '13': 'Peter Jackson', '14': 'Robert Rodriguez', '15': 'Chris Hemsworth', '16': 'Matt Damon', '17': 'Action', '18': 'K-19: The Widowmaker', '19': 2015, '20': 2014, '21': '9', '22': 450, '23': 'Peter Jackson', '24': 'Four By Two Productions', '25': 'Midnight Picture Show', '26':                                      original_title  vote_average\n",
       " 599                                 The Dark Knight           8.1\n",
       " 118                                    Interstellar           8.0\n",
       " 125                              The Imitation Game           8.0\n",
       " 9                                        Inside Out           8.0\n",
       " 34                                             Room           8.0\n",
       " 1183                        The Wolf of Wall Street           7.9\n",
       " 128                                       Gone Girl           7.9\n",
       " 1191                               12 Years a Slave           7.9\n",
       " 119                         Guardians of the Galaxy           7.9\n",
       " 1081  The Lord of the Rings: The Return of the King           7.9\n",
       " 1800                                        Memento           7.9\n",
       " 370                                       Inception           7.9\n",
       " 872                                     The Pianist           7.9\n",
       " 138                        The Grand Budapest Hotel           7.9\n",
       " 1188                                            Her           7.8\n",
       " 28                                        Spotlight           7.8\n",
       " 124                                      Big Hero 6           7.8\n",
       " 177                          The Fault in Our Stars           7.8\n",
       " 863           The Lord of the Rings: The Two Towers           7.8, '27': ('Daniel Radcliffe',\n",
       "  'Rupert Grint')}"
      ]
     },
     "execution_count": 231,
     "metadata": {},
     "output_type": "execute_result"
    }
   ],
   "source": [
    "import itertools\n",
    "combos = {}\n",
    "\n",
    "for index,row in data.iterrows():\n",
    "    actors = row['cast'].split('|')\n",
    "    film_combo = itertools.combinations(actors,2)\n",
    "    for combo in film_combo:\n",
    "        combos.setdefault(combo,0)\n",
    "        combos[combo] += 1\n",
    "combos\n",
    "\n",
    "answers['27'] = [(k,v) for k,v in sorted(combos.items(), key = lambda x: x[1],reverse=True)][0][0]\n",
    "answers"
   ]
  },
  {
   "cell_type": "markdown",
   "metadata": {
    "colab_type": "text",
    "id": "U0nONFnGVqAX"
   },
   "source": [
    "# Submission"
   ]
  },
  {
   "cell_type": "code",
   "execution_count": 232,
   "metadata": {
    "colab": {},
    "colab_type": "code",
    "id": "IfcaRO9-VqAX",
    "outputId": "0f132912-32bb-4196-c98c-abfbc4ad5a5f"
   },
   "outputs": [
    {
     "data": {
      "text/plain": [
       "{'1': 723    Pirates of the Caribbean: On Stranger Tides\n",
       " Name: original_title, dtype: object, '2': 1157    Gods and Generals\n",
       " Name: original_title, dtype: object, '3': 768    Winnie the Pooh\n",
       " Name: original_title, dtype: object, '4': 109.6585494970884, '5': 107.0, '6': 239    Avatar\n",
       " Name: original_title, dtype: object, '7': 1245    The Lone Ranger\n",
       " Name: original_title, dtype: object, '8': 1478, '9': 599    The Dark Knight\n",
       " Name: original_title, dtype: object, '10': 1245    The Lone Ranger\n",
       " Name: original_title, dtype: object, '11': 'Drama', '12': 'Drama', '13': 'Peter Jackson', '14': 'Robert Rodriguez', '15': 'Chris Hemsworth', '16': 'Matt Damon', '17': 'Action', '18': 'K-19: The Widowmaker', '19': 2015, '20': 2014, '21': '9', '22': 450, '23': 'Peter Jackson', '24': 'Four By Two Productions', '25': 'Midnight Picture Show', '26':                                      original_title  vote_average\n",
       " 599                                 The Dark Knight           8.1\n",
       " 118                                    Interstellar           8.0\n",
       " 125                              The Imitation Game           8.0\n",
       " 9                                        Inside Out           8.0\n",
       " 34                                             Room           8.0\n",
       " 1183                        The Wolf of Wall Street           7.9\n",
       " 128                                       Gone Girl           7.9\n",
       " 1191                               12 Years a Slave           7.9\n",
       " 119                         Guardians of the Galaxy           7.9\n",
       " 1081  The Lord of the Rings: The Return of the King           7.9\n",
       " 1800                                        Memento           7.9\n",
       " 370                                       Inception           7.9\n",
       " 872                                     The Pianist           7.9\n",
       " 138                        The Grand Budapest Hotel           7.9\n",
       " 1188                                            Her           7.8\n",
       " 28                                        Spotlight           7.8\n",
       " 124                                      Big Hero 6           7.8\n",
       " 177                          The Fault in Our Stars           7.8\n",
       " 863           The Lord of the Rings: The Two Towers           7.8, '27': ('Daniel Radcliffe',\n",
       "  'Rupert Grint')}"
      ]
     },
     "execution_count": 232,
     "metadata": {},
     "output_type": "execute_result"
    }
   ],
   "source": [
    "# в конце можно посмотреть свои ответы к каждому вопросу\n",
    "answers"
   ]
  },
  {
   "cell_type": "code",
   "execution_count": 233,
   "metadata": {
    "colab": {},
    "colab_type": "code",
    "id": "SiRmHPl8VqAd"
   },
   "outputs": [
    {
     "data": {
      "text/plain": [
       "27"
      ]
     },
     "execution_count": 233,
     "metadata": {},
     "output_type": "execute_result"
    }
   ],
   "source": [
    "# и убедиться что ни чего не пропустил)\n",
    "len(answers)"
   ]
  },
  {
   "cell_type": "code",
   "execution_count": 0,
   "metadata": {
    "colab": {},
    "colab_type": "code",
    "id": "uCfuTkRbVqAg"
   },
   "outputs": [],
   "source": []
  },
  {
   "cell_type": "code",
   "execution_count": 0,
   "metadata": {
    "colab": {},
    "colab_type": "code",
    "id": "Vwx3NrkSVqAl"
   },
   "outputs": [],
   "source": []
  }
 ],
 "metadata": {
  "colab": {
   "name": "Copy of [SF-DST] Movies IMBD v4.1 TEMPLATE.ipynb",
   "provenance": []
  },
  "kernelspec": {
   "display_name": "Python 3",
   "language": "python",
   "name": "python3"
  },
  "language_info": {
   "codemirror_mode": {
    "name": "ipython",
    "version": 3
   },
   "file_extension": ".py",
   "mimetype": "text/x-python",
   "name": "python",
   "nbconvert_exporter": "python",
   "pygments_lexer": "ipython3",
   "version": "3.7.3"
  }
 },
 "nbformat": 4,
 "nbformat_minor": 1
}

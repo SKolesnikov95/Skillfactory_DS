{
 "cells": [
  {
   "cell_type": "markdown",
   "metadata": {},
   "source": [
    "<b>Задание </b>: \n",
    "компьютер загадывает целое число от 1 до 100. Нужно написать программу, которая угадывает это число за наименьшее кол-во попыток."
   ]
  },
  {
   "cell_type": "code",
   "execution_count": 4,
   "metadata": {},
   "outputs": [],
   "source": [
    "import numpy as np"
   ]
  },
  {
   "cell_type": "code",
   "execution_count": 1,
   "metadata": {},
   "outputs": [],
   "source": [
    "# Напишем функцию, которая будет угадывать число (бин.поиск)\n",
    "def game_core(number):\n",
    "    predict_number = 50\n",
    "    count = 0\n",
    "    jump = 50\n",
    "    while predict_number != number:\n",
    "        count += 1\n",
    "        if (jump%2 == 0):\n",
    "            jump = int(jump/2)\n",
    "        else:\n",
    "            jump = int(jump/2) + 1\n",
    "            \n",
    "        if predict_number > number:\n",
    "            predict_number -= jump\n",
    "        else:\n",
    "            predict_number += jump \n",
    "    return count"
   ]
  },
  {
   "cell_type": "code",
   "execution_count": 2,
   "metadata": {},
   "outputs": [],
   "source": [
    "# Напишем фукнцию, которая будет оценивать среднее время работы основной фукнции game_core\n",
    "def game_score(cnt):\n",
    "    game_result = []\n",
    "    number_random_array = np.random.randint(1,101,size=(cnt))\n",
    "    \n",
    "    for number in number_random_array:\n",
    "        game_result.append(game_core(number))\n",
    "        \n",
    "    score = int(np.mean(game_result))\n",
    "    print (\"Алгоритм угадывает число в среднем за {} попыток\".format(score))\n",
    "    \n",
    "    return score"
   ]
  },
  {
   "cell_type": "code",
   "execution_count": 8,
   "metadata": {},
   "outputs": [
    {
     "name": "stdout",
     "output_type": "stream",
     "text": [
      "Алгоритм угадывает число в среднем за 4 попыток\n"
     ]
    },
    {
     "data": {
      "text/plain": [
       "4"
      ]
     },
     "execution_count": 8,
     "metadata": {},
     "output_type": "execute_result"
    }
   ],
   "source": [
    "game_score(100)"
   ]
  }
 ],
 "metadata": {
  "kernelspec": {
   "display_name": "Python 3",
   "language": "python",
   "name": "python3"
  },
  "language_info": {
   "codemirror_mode": {
    "name": "ipython",
    "version": 3
   },
   "file_extension": ".py",
   "mimetype": "text/x-python",
   "name": "python",
   "nbconvert_exporter": "python",
   "pygments_lexer": "ipython3",
   "version": "3.7.3"
  }
 },
 "nbformat": 4,
 "nbformat_minor": 2
}
